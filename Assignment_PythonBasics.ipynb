{
 "cells": [
  {
   "cell_type": "markdown",
   "metadata": {
    "id": "iiomo2JZF4xk"
   },
   "source": [
    "# Assignment\n",
    "\n"
   ]
  },
  {
   "cell_type": "markdown",
   "metadata": {},
   "source": [
    "## A few basic exercises\n",
    "### Variable Assignment\n",
    "* Try a program to display your name using a variable\n",
    "* Try changing that variable in code itself to something else\n",
    "* Try assiging one variable to other and changing one's value\n"
   ]
  },
  {
   "cell_type": "code",
   "execution_count": 1,
   "metadata": {},
   "outputs": [
    {
     "name": "stdout",
     "output_type": "stream",
     "text": [
      "Raj\n",
      "30\n",
      "Gupta\n"
     ]
    }
   ],
   "source": [
    "a= \"Raj\"\n",
    "b= \"Gupta\"\n",
    "\n",
    "# Write code to print the variable a \n",
    "\n",
    "print(a)\n",
    "\n",
    "# Write Code to Change variable a into 30\n",
    "\n",
    "a=30\n",
    "print(a)\n",
    "\n",
    "# Write Code to assign variable a the value of b\n",
    "\n",
    "a,b = b,a\n",
    "print(a)\n"
   ]
  },
  {
   "cell_type": "markdown",
   "metadata": {},
   "source": [
    "### Multiple Assignment\n",
    "\n",
    "* Try Reversing the assignements i.e. new a should be 3, b should be 2 and c should be 1"
   ]
  },
  {
   "cell_type": "code",
   "execution_count": 67,
   "metadata": {},
   "outputs": [
    {
     "name": "stdout",
     "output_type": "stream",
     "text": [
      "3 2 1\n"
     ]
    }
   ],
   "source": [
    "a,b,c = 1,2,3\n",
    "\n",
    "## write a single line code to reverse a,b,c using multiple assignment\n",
    "a,b,c = c,b,a\n",
    "######\n",
    "print(a,b,c)"
   ]
  },
  {
   "cell_type": "markdown",
   "metadata": {},
   "source": [
    "### String\n",
    "\n",
    "* Try reversing string in one line as compared to conventional loops\n"
   ]
  },
  {
   "cell_type": "code",
   "execution_count": 77,
   "metadata": {},
   "outputs": [
    {
     "name": "stdout",
     "output_type": "stream",
     "text": [
      "!tset a si siht\n"
     ]
    }
   ],
   "source": [
    "string = \"this is a test!\"\n",
    "\n",
    "## Write Code to reverse string in one line\n",
    "\n",
    "string = \"this is a test!\"[::-1]\n",
    "\n",
    "print(string)"
   ]
  },
  {
   "cell_type": "markdown",
   "metadata": {
    "id": "QMpTD6PQzkHZ"
   },
   "source": [
    "# Operators"
   ]
  },
  {
   "cell_type": "markdown",
   "metadata": {
    "id": "jBP8kRW4z2lv"
   },
   "source": [
    "You are provided with a list of Clubs in VJTI:\n",
    "clubs = ['SRA' , 'Aero' , 'Racing' , 'DSC' , 'COC']\n",
    "And a list of clubs you are a member of:\n",
    "membership= ['SRA' , 'DSC']\n",
    "\n",
    "You have to perform the following tasks:\n",
    "\n",
    "1.   Create a boolean list respective to the clubs you are a member of without using the '==' operator:\n",
    "Expected output: [true,false,false,true,false] HINT: use the membership operator\n",
    "\n",
    "2.   Convert the boolean list into a list of binary one or zero without using the operator '=='. Expected output: [1,0,0,1,0]\n",
    "HINT: Check out identity operator"
   ]
  },
  {
   "cell_type": "code",
   "execution_count": 32,
   "metadata": {
    "id": "hWE8HMmFzy8j"
   },
   "outputs": [
    {
     "name": "stdout",
     "output_type": "stream",
     "text": [
      "(True, False, False, True, False)\n"
     ]
    }
   ],
   "source": [
    "clubs = ['SRA' , 'Aero' , 'Racing' , 'DSC' , 'COC'] \n",
    "membership= ['SRA' , 'DSC']\n",
    "# Write your code here\n",
    "result = 'SRA'in membership,'Aero'in membership,'Racing'in membership,'DSC' in membership,'COC' in membership\n",
    "print(result)\n",
    "\n",
    "\n",
    "\n"
   ]
  },
  {
   "cell_type": "markdown",
   "metadata": {
    "id": "LTbYqBpx2W8h"
   },
   "source": [
    "You are provided with the following:\n",
    "expression = 4_6_9_3_23_19\n",
    "Using the operators: +,-,*, /, % in places of the _ make an expression that reads the value: 25.0."
   ]
  },
  {
   "cell_type": "code",
   "execution_count": 1,
   "metadata": {
    "id": "mKaJrL6w3oR3"
   },
   "outputs": [
    {
     "name": "stdout",
     "output_type": "stream",
     "text": [
      "25.0\n"
     ]
    }
   ],
   "source": [
    "expression = 4_6_9_3_23_19 \n",
    "\n",
    "# write your code here\n",
    "expression = 4*6-9/3+23-19 \n",
    "print(expression)"
   ]
  },
  {
   "cell_type": "markdown",
   "metadata": {
    "id": "gaciSf_w3wdN"
   },
   "source": [
    "# Control Statements"
   ]
  },
  {
   "cell_type": "markdown",
   "metadata": {
    "id": "C3wLYw-Y32Ap"
   },
   "source": [
    "Complete the for loop such that whenever there is an prime number it prints the number plus \"I was a prime\" in the same line, otherwise it prints nothing.  \n",
    "\n",
    "\n",
    "Using the looping statement and the control statements  \n",
    "\n"
   ]
  },
  {
   "cell_type": "code",
   "execution_count": 17,
   "metadata": {
    "id": "9O0v4M2C5CAq"
   },
   "outputs": [
    {
     "name": "stdout",
     "output_type": "stream",
     "text": [
      "2 I Was Not a Prime\n",
      "3 I Was Not a Prime\n",
      "5 I Was Not a Prime\n",
      "7 I Was Not a Prime\n",
      "11 I Was Not a Prime\n",
      "13 I Was Not a Prime\n",
      "17 I Was Not a Prime\n",
      "19 I Was Not a Prime\n",
      "23 I Was Not a Prime\n",
      "29 I Was Not a Prime\n",
      "31 I Was Not a Prime\n",
      "37 I Was Not a Prime\n",
      "41 I Was Not a Prime\n",
      "43 I Was Not a Prime\n",
      "47 I Was Not a Prime\n",
      "53 I Was Not a Prime\n",
      "59 I Was Not a Prime\n",
      "61 I Was Not a Prime\n",
      "67 I Was Not a Prime\n",
      "71 I Was Not a Prime\n",
      "73 I Was Not a Prime\n",
      "79 I Was Not a Prime\n",
      "83 I Was Not a Prime\n",
      "89 I Was Not a Prime\n",
      "97 I Was Not a Prime\n"
     ]
    }
   ],
   "source": [
    "for num in range(1, 100):\n",
    "  # Write Code here\n",
    "    if num>1:\n",
    "        for i in range(2,num):\n",
    "            if (num%i)==0:\n",
    "                break\n",
    "        else:\n",
    "            print(num, \"I Was Not a Prime\")"
   ]
  },
  {
   "cell_type": "markdown",
   "metadata": {
    "id": "-_wYEMJPS3pq"
   },
   "source": [
    "# Lists"
   ]
  },
  {
   "cell_type": "markdown",
   "metadata": {
    "id": "-ZdE30HvLh2G"
   },
   "source": [
    "Write a Python program to count the number of strings where the string length is 2 or more and the first and last character are same from a given list of strings. Go to the editor  \n",
    "**Sample Input** :['abc', 'xyz', 'aba', '1221']   \n",
    "**Sample Output** :2  \n",
    "**Explanation** :'aba' and '1221' have length greater than 2 and also has matching first and last character.   "
   ]
  },
  {
   "cell_type": "code",
   "execution_count": 42,
   "metadata": {
    "id": "Xk1x-6zrSpYo"
   },
   "outputs": [
    {
     "name": "stdout",
     "output_type": "stream",
     "text": [
      "2\n"
     ]
    }
   ],
   "source": [
    "list1 = ['abc','xyz','aba','1221']\n",
    "ctr = 0\n",
    "# Write your code here\n",
    "for word in list1:\n",
    "    if len(word)>2 and word[0] == word[-1]:\n",
    "        ctr+=1\n",
    "print(ctr)"
   ]
  },
  {
   "cell_type": "markdown",
   "metadata": {
    "id": "PFEX3PKtSwj3"
   },
   "source": [
    "Write a Python program to print the numbers of a specified list after removing even numbers from it.  \n",
    "**Hint** : Use List Comprehension"
   ]
  },
  {
   "cell_type": "code",
   "execution_count": 48,
   "metadata": {
    "id": "csR4tZzLVXTq"
   },
   "outputs": [
    {
     "name": "stdout",
     "output_type": "stream",
     "text": [
      "1\n",
      "3\n",
      "5\n",
      "7\n",
      "9\n"
     ]
    }
   ],
   "source": [
    "# Write your code here\n",
    "list = [1,2,3,4,5,6,7,8,9,10]\n",
    "\n",
    "for i in list:\n",
    "    if not i%2 == 0:\n",
    "        print(i)"
   ]
  },
  {
   "cell_type": "markdown",
   "metadata": {
    "id": "P3dm0udUVcmB"
   },
   "source": [
    "# Dictionaries"
   ]
  },
  {
   "cell_type": "markdown",
   "metadata": {
    "id": "7pZi-gqWVhpy"
   },
   "source": [
    "Delete set of keys (keysToRemove) from a dictionary and display the resultant dictionary  \n",
    "**Given** : The \"sampleDict\" dictionary has already been defined in the below code ."
   ]
  },
  {
   "cell_type": "markdown",
   "metadata": {
    "id": "Z8gkalnDXoo1"
   },
   "source": [
    "**Expected Output**:\n",
    "{'city': 'New york', 'age': 25}"
   ]
  },
  {
   "cell_type": "code",
   "execution_count": 56,
   "metadata": {
    "id": "Z8zSdTdBZpMr"
   },
   "outputs": [
    {
     "name": "stdout",
     "output_type": "stream",
     "text": [
      "{'age': 25, 'city': 'New york'}\n"
     ]
    }
   ],
   "source": [
    "# Given Dictionary\n",
    "sampleDict = {\n",
    "  \"name\": \"Kelly\",\n",
    "  \"age\":25,\n",
    "  \"salary\": 8000,\n",
    "  \"city\": \"New york\"\n",
    "  \n",
    "}\n",
    "\n",
    "# remove the keys present in the list below from the dictionary \n",
    "keysToRemove = [\"name\", \"salary\"]\n",
    "\n",
    "\n",
    "# Write your code here\n",
    "sampleDict.pop(\"name\", None)\n",
    "sampleDict.pop(\"salary\", None)\n",
    "print(sampleDict)\n"
   ]
  },
  {
   "cell_type": "markdown",
   "metadata": {
    "id": "rV5O1kFoXvY4"
   },
   "source": [
    "Write a program in Python to read the admission number, name of student and his/her stream of 10 students and create a dictionary from this information. print the dictionary "
   ]
  },
  {
   "cell_type": "code",
   "execution_count": 23,
   "metadata": {
    "id": "y9-SY12sY0_7"
   },
   "outputs": [
    {
     "name": "stdout",
     "output_type": "stream",
     "text": [
      "{'name1': ['Raj'], 'ID1': ['211030061'], 'Stream1': ['EE'], 'name2': ['Zain'], 'ID2': ['211030062'], 'Stream2': ['EE'], 'name3': ['Vaidic'], 'ID3': ['211030036'], 'Stream3': ['EE'], 'name4': ['Pratham'], 'ID4': ['2110300xx'], 'Stream4': ['EE'], 'name5': ['Advait'], 'ID5': ['2110300xx'], 'Stream5': ['EE'], 'name6': ['Shashwat'], 'ID6': ['2110300xx'], 'Stream6': ['EE'], 'name7': ['Furquan'], 'ID7': ['2110300xx'], 'Stream7': ['EE'], 'name8': ['Lakshaya'], 'ID8': ['2110300xx'], 'Stream8': ['EE'], 'name9': ['John'], 'ID9': ['2110300xx'], 'Stream9': ['EE'], 'name10': ['Steve'], 'ID10': ['2110300xx'], 'Stream10': ['EE']}\n"
     ]
    }
   ],
   "source": [
    "# Write your code here \n",
    "with open('students.txt') as document:\n",
    "    dictionary = {}\n",
    "    for line in document:\n",
    "        if line.strip():  \n",
    "            key, value = line.split(None, 1)  \n",
    "            dictionary[key] = value.split()\n",
    "\n",
    "print(dictionary)"
   ]
  },
  {
   "cell_type": "markdown",
   "metadata": {
    "id": "jBT1hgBV4J_k"
   },
   "source": [
    "# Sets and Tuples"
   ]
  },
  {
   "cell_type": "markdown",
   "metadata": {
    "id": "aO3KNdm74kIC"
   },
   "source": [
    "Check if two sets have any elements in common. If yes, display the common elements.\n",
    "\n",
    "set1 = {10, 20, 30, 40, 50}\n",
    "\n",
    "set2 = {60, 70, 80, 90, 10}\n",
    "\n",
    "\n",
    "**Expected output:**\n",
    "\n",
    "Two sets have items in common\n",
    "\n",
    "{10}"
   ]
  },
  {
   "cell_type": "code",
   "execution_count": 60,
   "metadata": {
    "id": "TiXKBh1p4UUe"
   },
   "outputs": [
    {
     "name": "stdout",
     "output_type": "stream",
     "text": [
      "{10}\n"
     ]
    }
   ],
   "source": [
    "set1 = {10, 20, 30, 40, 50}\n",
    "set2 = {60, 70, 80, 90, 10}\n",
    "\n",
    "# Write your code here to get common elements among them\n",
    "\n",
    "print(set1 & set2)"
   ]
  },
  {
   "cell_type": "markdown",
   "metadata": {
    "id": "CEKFqNN05nNS"
   },
   "source": [
    "Write a Python program to replace last value of tuples in a list.\n",
    "\n",
    "**Sample list:** [(10, 20, 40), (40, 50, 60), (70, 80, 90)]\n",
    "\n",
    "**Expected Output:** [(10, 20, 100), (40, 50, 100), (70, 80, 100)]"
   ]
  },
  {
   "cell_type": "code",
   "execution_count": 61,
   "metadata": {
    "id": "e9v1bRDU4tyC"
   },
   "outputs": [
    {
     "name": "stdout",
     "output_type": "stream",
     "text": [
      "[(10, 20, 100), (40, 50, 100), (70, 80, 100)]\n"
     ]
    }
   ],
   "source": [
    "list1 = [(10, 20, 40), (40, 50, 60), (70, 80, 90)]\n",
    "\n",
    "# Write your code here to replace last value of tuples in the list\n",
    "\n",
    "print([x[:-1] + (100,) for x in list1])"
   ]
  },
  {
   "cell_type": "markdown",
   "metadata": {
    "id": "DwM6tKlaIlhO"
   },
   "source": [
    "## Functions"
   ]
  },
  {
   "cell_type": "markdown",
   "metadata": {
    "id": "zrFBbZ48Ivqy"
   },
   "source": [
    "1) Write a function called ```showNumbers``` that takes a parameter called limit. It should print all the numbers between 0 and limit with a label to identify the even and odd numbers. For example, if the limit is 3, it should print:\n",
    "* 0 EVEN\n",
    "* 1 ODD\n",
    "* 2 EVEN\n",
    "* 3 ODD\n"
   ]
  },
  {
   "cell_type": "code",
   "execution_count": 11,
   "metadata": {
    "id": "eo2hNDAkIue-"
   },
   "outputs": [
    {
     "name": "stdout",
     "output_type": "stream",
     "text": [
      "0 EVEN\n",
      "1 ODD\n",
      "2 EVEN\n",
      "3 ODD\n"
     ]
    }
   ],
   "source": [
    "# Write Your code here\n",
    "def showNumbers(limit):\n",
    "    for i in range(limit+1):\n",
    "        if i%2==0:\n",
    "            print(i,\"EVEN\")\n",
    "        else:\n",
    "            print(i,\"ODD\")\n",
    "            \n",
    "showNumbers(3)"
   ]
  },
  {
   "cell_type": "markdown",
   "metadata": {
    "id": "0olNjioRJezU"
   },
   "source": [
    "2) Write a function that takes limit(integer) as a paramter and prints all the prime numbers between 0 and limit.\n",
    "\n",
    "\n"
   ]
  },
  {
   "cell_type": "code",
   "execution_count": 25,
   "metadata": {
    "id": "707mKltkJoyY"
   },
   "outputs": [
    {
     "name": "stdout",
     "output_type": "stream",
     "text": [
      "3\n",
      "5\n",
      "7\n",
      "9\n",
      "11\n",
      "13\n",
      "15\n",
      "17\n"
     ]
    }
   ],
   "source": [
    "# Write your code here\n",
    "def prime_num(limit):\n",
    "    for i in range(2, limit+1):\n",
    "        for j in range(2, i):\n",
    "            if i%j == 0:\n",
    "                break\n",
    "            else:\n",
    "                print(i)\n",
    "                break\n",
    "prime_num(17) #17 is my DOB lol\n"
   ]
  },
  {
   "cell_type": "markdown",
   "metadata": {
    "id": "Drl7IbTFIBhf"
   },
   "source": [
    "# Classes and Objects"
   ]
  },
  {
   "cell_type": "markdown",
   "metadata": {
    "id": "njc5QPZeJlN7"
   },
   "source": [
    "Write a Python Program to create a class named **Student**. \n",
    "- It should be initialised with attributes like **name, age, rollno, favourite subject**(a single subject).\n",
    "\n",
    "- Write a class method **getDetails()** which prints the name, age and rollno of the object in the below format.\n",
    " \n",
    "  * **Expected Output Format**\n",
    "> Name   : <em>name</em></br>\n",
    "> Age    : <em>age</em></br>\n",
    "> RollNo : <em>rollno</em></br>\n",
    "\n",
    "  * **Expected Example Output**\n",
    "> Name : Gautam</br>\n",
    "Age : 20</br>\n",
    "RollNo : 68\n",
    "\n",
    "- Now, there is a list **fav_list** such that it contains a list of subjects which are favourite to the Principal.\n",
    "\n",
    "  ``` python\n",
    "    fav_list = [\"EG\",\"Mechanics\",\"Chemistry\"]\n",
    "  ``` \n",
    "- You have to write a class Method **isFav()** which returns a boolean value i.e either <em>**true**</em> if any of the favourite subject of the principal matches with that of the student. Think of some suitable logic here.\n",
    "\n",
    "- Create 2 objects of class **Student** with attributes of your choice taken via user input.\n",
    "\n",
    "- Call Both the methods for both the objects. **Note** - Print the result of the **isFav()** method.\n",
    "\n",
    "- **Bonus Task** - Write the body of **isFav()** method in just one line."
   ]
  },
  {
   "cell_type": "code",
   "execution_count": 1,
   "metadata": {
    "id": "hWPxBx0fIOWp"
   },
   "outputs": [
    {
     "name": "stdout",
     "output_type": "stream",
     "text": [
      "Name : Raj\n",
      "Age : 18\n",
      "RollNo : 211030061\n"
     ]
    }
   ],
   "source": [
    "# Write your code here \n",
    "class Student:\n",
    "    def __init__(self, name, age, rollno, favourite_subject):\n",
    "        self.name = name \n",
    "        self.age = age\n",
    "        self.rollno = rollno\n",
    "        self.favourite_subject = favourite_subject\n",
    "    \n",
    "    \n",
    "    def getDetails(self):\n",
    "        print(\"Name : \" + self.name)\n",
    "        print(\"Age : \" + self.age)\n",
    "        print(\"RollNo : \" + self.rollno)\n",
    "        \n",
    "        \n",
    "\n",
    "        fav_list = [\"EG\",\"Mechanics\",\"Chemistry\"]\n",
    "        \n",
    "    def isFav(self, fav_list):\n",
    "        for i in fav_list:\n",
    "            if i == self.favourite_subject:\n",
    "                print(\"Favourite Subject : \" + i)\n",
    "                break\n",
    "        print(self.favourite_subject for self.fav_list in self.favourite_subject)\n",
    "            \n",
    "            \n",
    "\n",
    "person = Student(\"Raj\", '18', '211030061', \"Chemistry\")\n",
    "person.getDetails()\n"
   ]
  },
  {
   "cell_type": "code",
   "execution_count": null,
   "metadata": {},
   "outputs": [],
   "source": []
  }
 ],
 "metadata": {
  "colab": {
   "collapsed_sections": [],
   "name": "Python_Pixels_seminar",
   "provenance": [],
   "toc_visible": true
  },
  "kernelspec": {
   "display_name": "Python 3.9.13 64-bit",
   "language": "python",
   "name": "python3"
  },
  "language_info": {
   "codemirror_mode": {
    "name": "ipython",
    "version": 3
   },
   "file_extension": ".py",
   "mimetype": "text/x-python",
   "name": "python",
   "nbconvert_exporter": "python",
   "pygments_lexer": "ipython3",
   "version": "3.9.13"
  },
  "vscode": {
   "interpreter": {
    "hash": "b0fa6594d8f4cbf19f97940f81e996739fb7646882a419484c72d19e05852a7e"
   }
  }
 },
 "nbformat": 4,
 "nbformat_minor": 1
}
